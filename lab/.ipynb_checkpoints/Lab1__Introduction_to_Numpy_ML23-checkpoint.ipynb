{
 "cells": [
  {
   "cell_type": "markdown",
   "metadata": {
    "id": "FEYPAuooDOI8"
   },
   "source": [
    "# Lab 1: Introduction to Numpy\n",
    "\n",
    "In this first lesson, we familiarize with an important data-science library: <a href=\"https://numpy.org/\" target=\"_top\">numpy</a>. <br>\n",
    "Numpy allows you to work with *arrays* and *matrices* easily, and it offers several already-implemented functions. <br>\n",
    "As the developers say \"NumPy is the fundamental package for scientific computing in Python. It is a Python library that provides a multidimensional array object, various derived objects (such as masked arrays and matrices), and an assortment of routines for fast operations on arrays, including mathematical, logical, shape manipulation, sorting, selecting, I/O, discrete Fourier transforms, basic linear algebra, basic statistical operations, random simulation and much more\"  \n",
    "-https://docs.scipy.org/doc/numpy-1.10.1/user/whatisnumpy.html.\n",
    "\n",
    "Many machine learning libraries build on numpy, so it is important to learn it.\n",
    "\n",
    "The lesson is organized as follows:\n",
    "\n",
    "\n",
    "1.   Overview of numpy functionalities\n",
    "2.   Exercises\n",
    "\n",
    "\n",
    "\n"
   ]
  },
  {
   "cell_type": "markdown",
   "metadata": {
    "id": "41-p3lyIkI1Y"
   },
   "source": [
    "# Part 1: Introduction to numpy"
   ]
  },
  {
   "cell_type": "markdown",
   "metadata": {
    "id": "9Ppf_M18R58k"
   },
   "source": [
    "By default, python is already installed in Google Colab Notebook and can be used directly. <br>\n",
    "However, we will install and utilize a specific version (python 3.10) to ensure consistency of results across the different Colab machines.\n"
   ]
  },
  {
   "cell_type": "code",
   "execution_count": 1,
   "metadata": {
    "colab": {
     "base_uri": "https://localhost:8080/"
    },
    "id": "sW6hWyLgR9Q9",
    "outputId": "adf7a62f-8015-484f-918d-3bb0d442128f"
   },
   "outputs": [],
   "source": [
    "# install python at version 3.10\n",
    "#!apt-get install python3.10\n",
    "\n",
    "# update symbolic links to the newly installed python version\n",
    "#!ln -sf /usr/bin/python3.10 /usr/bin/python\n",
    "#!ln -sf /usr/bin/python3.10 /usr/bin/python3\n",
    "\n",
    "# check version\n",
    "#!python -V"
   ]
  },
  {
   "cell_type": "markdown",
   "metadata": {
    "id": "2K3Hdi0okgp1"
   },
   "source": [
    "Now we need to import the Numpy library. By default, the Numpy library is already installed in Google Colab Notebook and can be imported directly. <br>\n",
    "However, sometimes we want to utilize a specific version of the package instead of the version available on the Colab machine (and that may differ from machine to machine). In these cases we can install and use the version we want."
   ]
  },
  {
   "cell_type": "code",
   "execution_count": 2,
   "metadata": {
    "colab": {
     "base_uri": "https://localhost:8080/"
    },
    "id": "78qumXc9SOPH",
    "outputId": "30d3da8c-4fb7-403f-d6dd-1f3fd8ef0f1d"
   },
   "outputs": [],
   "source": [
    "# install numpy at version 1.23.5\n",
    "#%pip install numpy==1.23.5"
   ]
  },
  {
   "cell_type": "markdown",
   "metadata": {
    "id": "scFwLrEeSPxt"
   },
   "source": [
    "Usually, we rename the numpy library as *np*: this notation is widely used in most online repositories."
   ]
  },
  {
   "cell_type": "code",
   "execution_count": 3,
   "metadata": {
    "id": "LfauBJbJDFt0"
   },
   "outputs": [],
   "source": [
    "import numpy as np"
   ]
  },
  {
   "cell_type": "code",
   "execution_count": 4,
   "metadata": {
    "id": "NV7ySZLPSV0h"
   },
   "outputs": [
    {
     "data": {
      "text/plain": [
       "'1.22.4'"
      ]
     },
     "execution_count": 4,
     "metadata": {},
     "output_type": "execute_result"
    }
   ],
   "source": [
    "#check numpy version\n",
    "np.__version__"
   ]
  },
  {
   "cell_type": "markdown",
   "metadata": {
    "id": "2sxMXf8Pk_nQ"
   },
   "source": [
    "(Don't forget to run the cells above, otherwise you won't be able to use numpy in this notebook!)\n",
    "\n",
    "Numpy is also very efficient.\n",
    "Let's run through an example showing how powerful NumPy is. Suppose we have two lists a and b, consisting of the first 100,000 non-negative numbers, and we want to create a new list c whose ith element is a[i] + 2 * b[i].\n",
    "\n",
    "Without NumPy:"
   ]
  },
  {
   "cell_type": "code",
   "execution_count": 5,
   "metadata": {
    "colab": {
     "base_uri": "https://localhost:8080/"
    },
    "id": "zJbtnu2yk8q6",
    "outputId": "1767f08e-c322-480d-c85f-38ac4c8d1e64"
   },
   "outputs": [
    {
     "name": "stdout",
     "output_type": "stream",
     "text": [
      "CPU times: user 9.79 ms, sys: 4.95 ms, total: 14.7 ms\n",
      "Wall time: 16.2 ms\n"
     ]
    }
   ],
   "source": [
    "%%time\n",
    "#if you write the previous line in your cell, it prints you the execution time\n",
    "\n",
    "##generate a list of numbers [0: 10000[\n",
    "a = list(range(100000))\n",
    "b = list(range(100000))"
   ]
  },
  {
   "cell_type": "code",
   "execution_count": null,
   "metadata": {
    "colab": {
     "base_uri": "https://localhost:8080/"
    },
    "id": "95J6V9Z1lF8O",
    "outputId": "bf2116c4-cfa0-433e-fbf5-65bacb3a385f"
   },
   "outputs": [
    {
     "name": "stdout",
     "output_type": "stream",
     "text": [
      "CPU times: user 34.2 ms, sys: 3.46 ms, total: 37.6 ms\n",
      "Wall time: 41.4 ms\n"
     ]
    }
   ],
   "source": [
    "%%time\n",
    "\n",
    "#we do some operations between the two lists:\n",
    "# c = a + 2 * b\n",
    "c = []\n",
    "for i in range(len(a)):\n",
    "   c.append(a[i] + 2 * b[i])"
   ]
  },
  {
   "cell_type": "markdown",
   "metadata": {
    "id": "VNhfR4s8ltGX"
   },
   "source": [
    "Notice that we used %%time to time the execution. We now do the same with Numpy."
   ]
  },
  {
   "cell_type": "code",
   "execution_count": null,
   "metadata": {
    "colab": {
     "base_uri": "https://localhost:8080/"
    },
    "id": "XuLoaop1lwPy",
    "outputId": "7cc44e05-ae41-4238-9176-2617a85ebc72"
   },
   "outputs": [
    {
     "name": "stdout",
     "output_type": "stream",
     "text": [
      "CPU times: user 3.29 ms, sys: 1.81 ms, total: 5.1 ms\n",
      "Wall time: 9.25 ms\n"
     ]
    }
   ],
   "source": [
    "%%time\n",
    "a = np.arange(100000)\n",
    "b = np.arange(100000)"
   ]
  },
  {
   "cell_type": "code",
   "execution_count": null,
   "metadata": {
    "colab": {
     "base_uri": "https://localhost:8080/"
    },
    "id": "Zq1B0WG3lzsM",
    "outputId": "5489beae-4602-4e7d-e9c8-22ec2ff65f7a"
   },
   "outputs": [
    {
     "name": "stdout",
     "output_type": "stream",
     "text": [
      "CPU times: user 1.29 ms, sys: 787 µs, total: 2.08 ms\n",
      "Wall time: 2.31 ms\n"
     ]
    }
   ],
   "source": [
    "%%time\n",
    "\n",
    "c = a + 2 * b"
   ]
  },
  {
   "cell_type": "markdown",
   "metadata": {
    "id": "9KVR_aIimFbt"
   },
   "source": [
    "Numpy is an order of magnitude faster since it uses optimized pre-compiled C code, and we could get it with fewer lines of code (and the code itself is more intuitive)! <br>\n",
    "The process we used above in the numpy version of the code is called **vectorization**. Vectorization refers to applying operations to arrays instead of just individual elements (i.e. no loops)."
   ]
  },
  {
   "cell_type": "markdown",
   "metadata": {
    "id": "rqSa0JQ6tH0B"
   },
   "source": [
    "In general, list can contain eterogeneous data, while this is not true for numpy array."
   ]
  },
  {
   "cell_type": "code",
   "execution_count": null,
   "metadata": {
    "colab": {
     "base_uri": "https://localhost:8080/"
    },
    "id": "9nDUXrirszF0",
    "outputId": "e125d746-b47b-4c09-b3f2-99db33b67f8b"
   },
   "outputs": [
    {
     "data": {
      "text/plain": [
       "['ciao', 1, True]"
      ]
     },
     "execution_count": 6,
     "metadata": {},
     "output_type": "execute_result"
    }
   ],
   "source": [
    "list_eter = [\"ciao\", 1, True]\n",
    "list_eter"
   ]
  },
  {
   "cell_type": "code",
   "execution_count": null,
   "metadata": {
    "colab": {
     "base_uri": "https://localhost:8080/"
    },
    "id": "YCDILQkqs9Ua",
    "outputId": "c4b11098-a105-4236-edbf-ba98ffce1d2e"
   },
   "outputs": [
    {
     "data": {
      "text/plain": [
       "array(['ciao', '1', 'True'], dtype='<U4')"
      ]
     },
     "execution_count": 7,
     "metadata": {},
     "output_type": "execute_result"
    }
   ],
   "source": [
    "np.array([\"ciao\", 1, True])"
   ]
  },
  {
   "cell_type": "markdown",
   "metadata": {
    "id": "OoLacSpOmJnp"
   },
   "source": [
    "Why vectorize?\n",
    "1. Much faster\n",
    "2. Easier to read and fewer lines of code\n",
    "3. More closely assembles mathematical notation\n",
    "\n",
    "Vectorization is one of the main reasons why NumPy is so powerful."
   ]
  },
  {
   "cell_type": "markdown",
   "metadata": {
    "id": "VS0G_2g_mOUz"
   },
   "source": [
    "### ndarray\n",
    "\n",
    "ndarrays, n-dimensional arrays of homogenous data type, are the fundamental datatype used in NumPy. As these arrays are of the same type and their size is fixed at creation time, they offer less flexibility than Python lists, but can be substantially more efficient runtime and memory-wise. (Python lists are arrays of pointers to objects, adding a layer of indirection.)\n",
    "\n",
    "The number of dimensions is the rank of the array; the shape of an array is a tuple of integers giving the size of the array along each dimension."
   ]
  },
  {
   "cell_type": "code",
   "execution_count": 6,
   "metadata": {
    "colab": {
     "base_uri": "https://localhost:8080/"
    },
    "id": "Toi_jrHLmPnL",
    "outputId": "d2d7220a-1c40-4cc1-9d67-3d74ecddaf7d"
   },
   "outputs": [
    {
     "name": "stdout",
     "output_type": "stream",
     "text": [
      "type: <class 'numpy.ndarray'>\n",
      "shape: (3,)\n",
      "a: [1 2 3]\n",
      "a modified: [5 2 3]\n",
      "a copy: [1 2 3]\n",
      "shape: (2, 3)\n",
      "1 2 4\n"
     ]
    }
   ],
   "source": [
    "# Can initialize ndarrays with Python lists, for example:\n",
    "a = np.array([1, 2, 3])   # Create a rank 1 array\n",
    "print('type:', type(a))   # Prints \"<class 'numpy.ndarray'>\"\n",
    "print('shape:', a.shape)  # Prints \"(3,)\"\n",
    "print('a:', a)            # Prints \"1 2 3\"\n",
    "\n",
    "a_cpy= a.copy()\n",
    "a[0] = 5                  # Change an element of the array\n",
    "print('a modified:', a)  # Prints \"[5, 2, 3]\"\n",
    "print('a copy:', a_cpy)\n",
    "\n",
    "b = np.array([[1, 2, 3],\n",
    "              [4, 5, 6]])         # Create a rank 2 array (a matrix).\n",
    "                                  # Notice that we used a list of lists of numbers (where each internal list of numbers represent a row)\n",
    "                                  # to create the numpy array\n",
    "print('shape:', b.shape)          # Prints \"(2, 3)\"\n",
    "print(b[0, 0], b[0, 1], b[1, 0])  # Prints \"1 2 4\""
   ]
  },
  {
   "cell_type": "markdown",
   "metadata": {
    "id": "folYed2pmfEw"
   },
   "source": [
    "There are many other initializations that NumPy provides:"
   ]
  },
  {
   "cell_type": "code",
   "execution_count": null,
   "metadata": {
    "colab": {
     "base_uri": "https://localhost:8080/"
    },
    "id": "BgOMILMymfml",
    "outputId": "15450628-4ef8-48a3-bf45-c02c54898b69"
   },
   "outputs": [
    {
     "name": "stdout",
     "output_type": "stream",
     "text": [
      "[[0. 0.]\n",
      " [0. 0.]]\n",
      "[[7 7]\n",
      " [7 7]]\n",
      "[[1. 0.]\n",
      " [0. 1.]]\n",
      "[[0.20786076 0.41680493]\n",
      " [0.34877902 0.51301491]]\n"
     ]
    }
   ],
   "source": [
    "a = np.zeros((2, 2))   # Create an array of all zeros\n",
    "print(a)               # Prints \"[[ 0.  0.]\n",
    "                       #          [ 0.  0.]]\"\n",
    "\n",
    "b = np.full((2, 2), 7)  # Create a constant array\n",
    "print(b)                # Prints \"[[ 7.  7.]\n",
    "                        #          [ 7.  7.]]\"\n",
    "\n",
    "c = np.eye(2)         # Create a 2 x 2 identity matrix\n",
    "print(c)              # Prints \"[[ 1.  0.]\n",
    "                      #          [ 0.  1.]]\"\n",
    "\n",
    "d = np.random.random((2, 2))  # Create an array filled with random values\n",
    "print(d)                      # Might print \"[[ 0.91940167  0.08143941]\n",
    "                              #               [ 0.68744134  0.87236687]]\""
   ]
  },
  {
   "cell_type": "markdown",
   "metadata": {
    "id": "HHUTGbDV_bY2"
   },
   "source": [
    "It is possible to control the sequence of random values generated by np.random.random() and similar functions by using a seed function:\n",
    "\n",
    "np.random.seed(123)\n",
    "\n",
    "Notice below that, after setting again the random seed to 123, we obtain the same sequence of random arrays"
   ]
  },
  {
   "cell_type": "code",
   "execution_count": null,
   "metadata": {
    "colab": {
     "base_uri": "https://localhost:8080/"
    },
    "id": "3RC3MLACALq6",
    "outputId": "0e4b2828-8fa6-4d09-a578-d5e005a69211"
   },
   "outputs": [
    {
     "name": "stdout",
     "output_type": "stream",
     "text": [
      "setting the random seed and generating 3 random arrays\n",
      "[0.69646919 0.28613933 0.22685145 0.55131477]\n",
      "[0.71946897 0.42310646 0.9807642  0.68482974]\n",
      "[0.4809319  0.39211752 0.34317802 0.72904971]\n",
      "setting the random seed and generating 3 random arrays\n",
      "[0.69646919 0.28613933 0.22685145 0.55131477]\n",
      "[0.71946897 0.42310646 0.9807642  0.68482974]\n",
      "[0.4809319  0.39211752 0.34317802 0.72904971]\n"
     ]
    }
   ],
   "source": [
    "print(\"setting the random seed and generating 3 random arrays\")\n",
    "np.random.seed(123)\n",
    "print(np.random.random(4))\n",
    "print(np.random.random(4))\n",
    "print(np.random.random(4))\n",
    "\n",
    "print(\"setting the random seed and generating 3 random arrays\")\n",
    "np.random.seed(123)\n",
    "print(np.random.random(4))\n",
    "print(np.random.random(4))\n",
    "print(np.random.random(4))\n"
   ]
  },
  {
   "cell_type": "markdown",
   "metadata": {
    "id": "_eQikHYqmjxi"
   },
   "source": [
    "How do we create a 2 by 2 matrix of ones?"
   ]
  },
  {
   "cell_type": "code",
   "execution_count": null,
   "metadata": {
    "colab": {
     "base_uri": "https://localhost:8080/"
    },
    "id": "88bRpUwtmlXN",
    "outputId": "aaf709c5-589f-40e2-e110-b5141351da1e"
   },
   "outputs": [
    {
     "name": "stdout",
     "output_type": "stream",
     "text": [
      "[[1. 1.]\n",
      " [1. 1.]]\n"
     ]
    }
   ],
   "source": [
    "a = np.ones((2, 2))    # Create an array of all ones\n",
    "print(a)               # Prints \"[[ 1.  1.]\n",
    "                       #          [ 1.  1.]]\""
   ]
  },
  {
   "cell_type": "markdown",
   "metadata": {
    "id": "ZUb_A9_Dmrx0"
   },
   "source": [
    "Sometimes, we need to *reshape* our arrays, i.e., to change their dimension. <br>\n",
    "For example, if we have a one dimension array $x$, where $|x|=8$, we can reshape it in a 2D array (i.e., matrix) with two columns and four rows or, vice-versa, four columns and two rows."
   ]
  },
  {
   "cell_type": "code",
   "execution_count": null,
   "metadata": {
    "colab": {
     "base_uri": "https://localhost:8080/"
    },
    "id": "qAxVVp_cmqvU",
    "outputId": "d88cf3b8-28e6-4050-9b79-d10cfbd7a881"
   },
   "outputs": [
    {
     "name": "stdout",
     "output_type": "stream",
     "text": [
      "[0 1 2 3 4 5 6 7]\n",
      "(8,)\n",
      "nums2:\n",
      " [[0 1 2 3]\n",
      " [4 5 6 7]]\n",
      "nums3:\n",
      " [[0 1]\n",
      " [2 3]\n",
      " [4 5]\n",
      " [6 7]]\n"
     ]
    }
   ],
   "source": [
    "nums = np.arange(8) #create an array [0, 7]\n",
    "print(nums) #see the array\n",
    "print(nums.shape) #see the shape\n",
    "\n",
    "#reshape\n",
    "nums2 = nums.reshape((2, 4)) # 2 rows, 4 columns\n",
    "nums3 = nums.reshape((4, 2)) # 4 rows, 2 columns\n",
    "\n",
    "print(\"nums2:\\n\", nums2)\n",
    "print(\"nums3:\\n\", nums3)"
   ]
  },
  {
   "cell_type": "markdown",
   "metadata": {
    "id": "4XLVq92Qn6Jy"
   },
   "source": [
    "NumPy supports an object-oriented paradigm, i.e. an ndarray has a number of methods and attributes, with functions equivalent to the ones in the outermost NumPy namespace. For example, we can do both:\n"
   ]
  },
  {
   "cell_type": "code",
   "execution_count": null,
   "metadata": {
    "colab": {
     "base_uri": "https://localhost:8080/"
    },
    "id": "ApdUWcraoB7h",
    "outputId": "10e21a48-b544-41ed-f07a-f0548965f9c6"
   },
   "outputs": [
    {
     "name": "stdout",
     "output_type": "stream",
     "text": [
      "[0 1 2 3 4 5 6 7]\n",
      "0\n",
      "0\n",
      "[[0 1]\n",
      " [2 3]\n",
      " [4 5]\n",
      " [6 7]]\n"
     ]
    }
   ],
   "source": [
    "nums = np.arange(8)\n",
    "print(nums)\n",
    "print(nums.min())     # Prints 0\n",
    "print(np.min(nums))   # Prints 0\n",
    "print(np.reshape(nums, (4, 2))) #change how the array looks like"
   ]
  },
  {
   "cell_type": "code",
   "execution_count": 8,
   "metadata": {
    "colab": {
     "base_uri": "https://localhost:8080/"
    },
    "id": "B1mvmWv_tfvM",
    "outputId": "9820c75c-cdf0-4dd4-c59a-b41ea0cdf3dd"
   },
   "outputs": [
    {
     "name": "stdout",
     "output_type": "stream",
     "text": [
      "[[1 2]\n",
      " [4 5]]\n",
      "[[1 4]\n",
      " [2 5]]\n",
      "[[1 2]\n",
      " [4 5]]\n",
      "[[-1.66666667  0.66666667]\n",
      " [ 1.33333333 -0.33333333]]\n"
     ]
    }
   ],
   "source": [
    "m = np.array([[1, 2], [4, 5]])\n",
    "print(m)\n",
    "\n",
    "print(m.T)\n",
    "\n",
    "print(m)\n",
    "\n",
    "print(np.linalg.inv(m))"
   ]
  },
  {
   "cell_type": "code",
   "execution_count": null,
   "metadata": {
    "colab": {
     "base_uri": "https://localhost:8080/"
    },
    "id": "WFwfDyzitX5T",
    "outputId": "1054325c-b5ac-478f-83cf-1bba27ef47ef"
   },
   "outputs": [
    {
     "name": "stdout",
     "output_type": "stream",
     "text": [
      "[[1 2]\n",
      " [4 5]]\n",
      "[1 2]\n",
      "[2 5]\n",
      "n =  [1 2 3 4 5]\n",
      "n[2:4] =  [3 4]\n"
     ]
    }
   ],
   "source": [
    "#or we can access to only some numbers\n",
    "print(m)\n",
    "print(m[0, :]) #print first row\n",
    "print(m[:, 1]) #print second col\n",
    "\n",
    "n = np.array([1, 2, 3, 4, 5])\n",
    "print(\"n = \", n)\n",
    "print(\"n[2:4] = \", n[2: 4]) # print n[2], n[3], therefore the index 2 is included and 4 is not included"
   ]
  },
  {
   "cell_type": "code",
   "execution_count": null,
   "metadata": {
    "colab": {
     "base_uri": "https://localhost:8080/"
    },
    "id": "sTW-KgE3ukYP",
    "outputId": "f61d017f-6421-49f9-a4b4-37dcd59979e3"
   },
   "outputs": [
    {
     "name": "stdout",
     "output_type": "stream",
     "text": [
      "[[1 2 3]\n",
      " [4 5 6]\n",
      " [1 2 3]]\n",
      "[[1 2 3 4 5 6 1 2 3]]\n"
     ]
    }
   ],
   "source": [
    "#can we stack two arrays together? For example, given two 1D array, we obtain a 2D matrix\n",
    "\n",
    "a = np.array([[1, 2, 3]])\n",
    "b = np.array([[4, 5, 6]])\n",
    "print(np.vstack((a, b, a)))\n",
    "print(np.hstack((a, b, a)))"
   ]
  },
  {
   "cell_type": "markdown",
   "metadata": {
    "id": "qdGpLEd-oSe7"
   },
   "source": [
    "### Array Operations/Math\n",
    "\n",
    "NumPy supports many elementwise operations:"
   ]
  },
  {
   "cell_type": "code",
   "execution_count": null,
   "metadata": {
    "colab": {
     "base_uri": "https://localhost:8080/"
    },
    "id": "3qA_xJjGoXmO",
    "outputId": "b1c79af9-4abb-44b2-e897-698628fe741c"
   },
   "outputs": [
    {
     "name": "stdout",
     "output_type": "stream",
     "text": [
      "True\n",
      "True\n",
      "True\n",
      "[[1.         1.41421356]\n",
      " [1.73205081 2.        ]]\n",
      "[[ 1.  4.]\n",
      " [ 9. 16.]]\n",
      "[[ 1.  8.]\n",
      " [27. 64.]]\n"
     ]
    }
   ],
   "source": [
    "#define two matrixes: x and y\n",
    "x = np.array([[1, 2],\n",
    "              [3, 4]], dtype=np.float64)\n",
    "y = np.array([[5, 6],\n",
    "              [7, 8]], dtype=np.float64)\n",
    "\n",
    "# Elementwise sum; both produce the array\n",
    "# [[ 6.0  8.0]\n",
    "#  [10.0 12.0]]\n",
    "#np.array_equal tells us if two np array are equal\n",
    "print(np.array_equal(x + y, np.add(x, y)))\n",
    "\n",
    "# Elementwise difference; both produce the array\n",
    "# [[-4.0 -4.0]\n",
    "#  [-4.0 -4.0]]\n",
    "print(np.array_equal(x - y, np.subtract(x, y)))\n",
    "\n",
    "# Elementwise product; both produce the array\n",
    "# [[ 5.0 12.0]\n",
    "#  [21.0 32.0]]\n",
    "print(np.array_equal(x * y, np.multiply(x, y)))\n",
    "\n",
    "# Elementwise square root; produces the array\n",
    "# [[ 1.          1.41421356]\n",
    "#  [ 1.73205081  2.        ]]\n",
    "print(np.sqrt(x))\n",
    "\n",
    "print(x ** 2)\n",
    "print(x ** 3)"
   ]
  },
  {
   "cell_type": "markdown",
   "metadata": {
    "id": "07AvPaktpMQ9"
   },
   "source": [
    "How do we elementwise divide between two arrays?"
   ]
  },
  {
   "cell_type": "code",
   "execution_count": null,
   "metadata": {
    "colab": {
     "base_uri": "https://localhost:8080/"
    },
    "id": "zm8fEpIqpKKB",
    "outputId": "7f652e24-ab73-4233-fddd-b2b498dba188"
   },
   "outputs": [
    {
     "name": "stdout",
     "output_type": "stream",
     "text": [
      "[[1. 2.]\n",
      " [3. 4.]]\n",
      "[[5. 6.]\n",
      " [7. 8.]]\n",
      "[[0.2        0.33333333]\n",
      " [0.42857143 0.5       ]]\n",
      "[[0.2        0.33333333]\n",
      " [0.42857143 0.5       ]]\n"
     ]
    }
   ],
   "source": [
    "x = np.array([[1, 2], [3, 4]], dtype=np.float64)\n",
    "y = np.array([[5, 6], [7, 8]], dtype=np.float64)\n",
    "\n",
    "# Elementwise division; both produce the array\n",
    "# [[ 0.2         0.33333333]\n",
    "#  [ 0.42857143  0.5       ]]\n",
    "print(x)\n",
    "print(y)\n",
    "print(x / y)\n",
    "print(np.divide(x, y))"
   ]
  },
  {
   "cell_type": "markdown",
   "metadata": {
    "id": "qqorcz-Apd4J"
   },
   "source": [
    "Note * is elementwise multiplication, not matrix multiplication. We instead use the dot function to compute inner products of vectors, to multiply a vector by a matrix, and to multiply matrices. dot is available both as a function in the numpy module and as an instance method of array objects:"
   ]
  },
  {
   "cell_type": "code",
   "execution_count": 14,
   "metadata": {
    "colab": {
     "base_uri": "https://localhost:8080/"
    },
    "id": "FU_N_ieJpgKd",
    "outputId": "23a7ec3e-3fd3-40ee-a721-3ab82453db18"
   },
   "outputs": [
    {
     "name": "stdout",
     "output_type": "stream",
     "text": [
      "v = [ 9 10]\n",
      "w = [11 12]\n",
      "v*w = 219\n",
      "\n",
      "w*v = 219\n",
      "\n",
      "x = [[1 2]\n",
      " [3 4]]\n",
      "v = [ 9 10]\n",
      "x*v = [29 67]\n",
      "\n",
      "\n",
      "y = [[5 6]\n",
      " [7 8]]\n",
      "x*y = [[19 22]\n",
      " [43 50]] \n",
      "\n",
      "\n",
      "\n"
     ]
    }
   ],
   "source": [
    "x = np.array([[1, 2], [3, 4]])\n",
    "y = np.array([[5, 6], [7, 8]])\n",
    "\n",
    "v = np.array([9, 10])\n",
    "w = np.array([11, 12])\n",
    "\n",
    "# Inner product of vectors;\n",
    "# (9 * 11) + (10 * 12)\n",
    "# expected dimension? (1, 2) X (2 , 1) --> (1)\n",
    "#both produce 219\n",
    "print(\"v =\",v)\n",
    "print(\"w =\",w)\n",
    "print(\"v*w =\", v.dot(w))\n",
    "print()\n",
    "print(\"w*v =\", np.dot(v, w))\n",
    "print()\n",
    "\n",
    "# Matrix / vector product; both produce the rank 1 array [29 67]\n",
    "# expected dimension? (2, 2) x (2, 1) --> (2, 1)\n",
    "# [(1 * 9 + 2 * 10), (3 * 9 + 4 * 10)]\n",
    "print(\"x =\",x)\n",
    "print(\"v =\",v)\n",
    "print(\"x*v =\",x.dot(v))\n",
    "print()\n",
    "#print(np.dot(x, v))\n",
    "print()\n",
    "\n",
    "\n",
    "# Matrix / matrix product; both produce the rank 2 array\n",
    "# [[19 22]\n",
    "#  [43 50]]\n",
    "print(\"y =\",y)\n",
    "print(\"x*y =\", x.dot(y), \"\\n\")\n",
    "print()\n",
    "#print(np.dot(x, y))\n",
    "print()\n",
    "#print(x @ y) # @ is another way to do a matrix product"
   ]
  },
  {
   "cell_type": "code",
   "execution_count": null,
   "metadata": {
    "colab": {
     "base_uri": "https://localhost:8080/",
     "height": 339
    },
    "id": "l0iR1N_EvB1F",
    "outputId": "05aec7a0-28bf-4554-c75c-6b6cf2d3b6eb"
   },
   "outputs": [
    {
     "name": "stdout",
     "output_type": "stream",
     "text": [
      "[[1 2]\n",
      " [2 4]]\n",
      "\n",
      "[[1 2 2 1]\n",
      " [2 4 2 1]\n",
      " [2 4 2 1]]\n"
     ]
    },
    {
     "ename": "ValueError",
     "evalue": "ignored",
     "output_type": "error",
     "traceback": [
      "\u001b[0;31m---------------------------------------------------------------------------\u001b[0m",
      "\u001b[0;31mValueError\u001b[0m                                Traceback (most recent call last)",
      "\u001b[0;32m<ipython-input-45-c9ef0b537828>\u001b[0m in \u001b[0;36m<module>\u001b[0;34m()\u001b[0m\n\u001b[1;32m      5\u001b[0m \u001b[0mb\u001b[0m \u001b[0;34m=\u001b[0m \u001b[0mnp\u001b[0m\u001b[0;34m.\u001b[0m\u001b[0marray\u001b[0m\u001b[0;34m(\u001b[0m\u001b[0;34m[\u001b[0m\u001b[0;34m[\u001b[0m\u001b[0;36m1\u001b[0m\u001b[0;34m,\u001b[0m \u001b[0;36m2\u001b[0m\u001b[0;34m,\u001b[0m \u001b[0;36m2\u001b[0m\u001b[0;34m,\u001b[0m \u001b[0;36m1\u001b[0m\u001b[0;34m]\u001b[0m\u001b[0;34m,\u001b[0m \u001b[0;34m[\u001b[0m\u001b[0;36m2\u001b[0m\u001b[0;34m,\u001b[0m \u001b[0;36m4\u001b[0m\u001b[0;34m,\u001b[0m \u001b[0;36m2\u001b[0m\u001b[0;34m,\u001b[0m \u001b[0;36m1\u001b[0m\u001b[0;34m]\u001b[0m\u001b[0;34m,\u001b[0m \u001b[0;34m[\u001b[0m\u001b[0;36m2\u001b[0m\u001b[0;34m,\u001b[0m \u001b[0;36m4\u001b[0m\u001b[0;34m,\u001b[0m \u001b[0;36m2\u001b[0m\u001b[0;34m,\u001b[0m \u001b[0;36m1\u001b[0m\u001b[0;34m]\u001b[0m\u001b[0;34m]\u001b[0m\u001b[0;34m)\u001b[0m\u001b[0;34m\u001b[0m\u001b[0;34m\u001b[0m\u001b[0m\n\u001b[1;32m      6\u001b[0m \u001b[0mprint\u001b[0m\u001b[0;34m(\u001b[0m\u001b[0mb\u001b[0m\u001b[0;34m)\u001b[0m\u001b[0;34m\u001b[0m\u001b[0;34m\u001b[0m\u001b[0m\n\u001b[0;32m----> 7\u001b[0;31m \u001b[0ma\u001b[0m\u001b[0;34m.\u001b[0m\u001b[0mdot\u001b[0m\u001b[0;34m(\u001b[0m\u001b[0mb\u001b[0m\u001b[0;34m)\u001b[0m\u001b[0;34m\u001b[0m\u001b[0;34m\u001b[0m\u001b[0m\n\u001b[0m",
      "\u001b[0;31mValueError\u001b[0m: shapes (2,2) and (3,4) not aligned: 2 (dim 1) != 3 (dim 0)"
     ]
    }
   ],
   "source": [
    "#we must be careful with matrix products!\n",
    "a = np.array([[1, 2], [2, 4]])\n",
    "print(a)\n",
    "print()\n",
    "b = np.array([[1, 2, 2, 1], [2, 4, 2, 1], [2, 4, 2, 1]])\n",
    "print(b)\n",
    "a.dot(b)"
   ]
  },
  {
   "cell_type": "markdown",
   "metadata": {
    "id": "D1BswnDktNHI"
   },
   "source": [
    "There are many useful functions built into NumPy, and often we're able to express them across specific axes of the ndarray:"
   ]
  },
  {
   "cell_type": "code",
   "execution_count": null,
   "metadata": {
    "colab": {
     "base_uri": "https://localhost:8080/"
    },
    "id": "a4P3OphItLu1",
    "outputId": "f79b9eba-0f85-4f0c-bfd5-85eba7cfdeb3"
   },
   "outputs": [
    {
     "name": "stdout",
     "output_type": "stream",
     "text": [
      "[[1 2 3]\n",
      " [4 5 6]] \n",
      "\n",
      "\n",
      "21\n",
      "[5 7 9]\n",
      "[ 6 15]\n",
      "\n",
      "[4 5 6]\n",
      "[3 6]\n"
     ]
    }
   ],
   "source": [
    "x = np.array([[1, 2, 3],\n",
    "              [4, 5, 6]])\n",
    "\n",
    "print(x, \"\\n\\n\")\n",
    "\n",
    "print(np.sum(x))          # Compute sum of all elements; prints \"21\"\n",
    "print(np.sum(x, axis=0))  # Compute sum of each column; prints \"[5 7 9]\"\n",
    "print(np.sum(x, axis=1))  # Compute sum of each row; prints \"[6 15]\"\n",
    "\n",
    "print()\n",
    "\n",
    "print(np.max(x, axis=0))  # Compute max of each column; prints \"[4 5, 6]\"\n",
    "print(np.max(x, axis=1))  # Compute max of each row; prints \"[3 6]\"\n"
   ]
  },
  {
   "cell_type": "markdown",
   "metadata": {
    "id": "MOoj-fz5tmUE"
   },
   "source": [
    "How can we compute the index of the max value of each row? <br>\n",
    "Useful, to say, find the class that corresponds to the maximum score for an input image."
   ]
  },
  {
   "cell_type": "code",
   "execution_count": null,
   "metadata": {
    "colab": {
     "base_uri": "https://localhost:8080/"
    },
    "id": "lICfig3Htn0X",
    "outputId": "f069672f-1eb6-4e3e-8a18-c1443c5fe51f"
   },
   "outputs": [
    {
     "name": "stdout",
     "output_type": "stream",
     "text": [
      "[2 2]\n"
     ]
    }
   ],
   "source": [
    "x = np.array([[1, 2, 3],\n",
    "              [4, 5, 6]])\n",
    "\n",
    "print(np.argmax(x, axis=1)) # Compute index of max of each row; prints \"[2 2]\""
   ]
  },
  {
   "cell_type": "markdown",
   "metadata": {
    "id": "zw7S4qvBtyhz"
   },
   "source": [
    "We can also apply also boolean operators in our ndarray. <br>\n",
    "For example, we might want to find all numbers greater than 5 or modify only some elements of our array."
   ]
  },
  {
   "cell_type": "code",
   "execution_count": null,
   "metadata": {
    "colab": {
     "base_uri": "https://localhost:8080/"
    },
    "id": "No8FYeR_tw6x",
    "outputId": "814dbbb7-6e7c-4283-f0f7-b96d45cd7a65"
   },
   "outputs": [
    {
     "name": "stdout",
     "output_type": "stream",
     "text": [
      "[False False False  True  True  True False False False]\n",
      "[7 8 9]\n",
      "[1 2 3 5 5 5 4 5 4]\n"
     ]
    }
   ],
   "source": [
    "x = np.array([1, 2, 3, 7, 8, 9, 4, 5, 4])\n",
    "print(x > 5) # a list of elementwise comparisons\n",
    "print(x[x > 5]) #we can access our vector elements with boolean indexes\n",
    "x[x>=6] = 5 # assign the value 5 to all elements of x greater or equal than 6\n",
    "print(x)"
   ]
  },
  {
   "cell_type": "markdown",
   "metadata": {
    "id": "T5_P7014uhLX"
   },
   "source": [
    "# Part 2: Exercises"
   ]
  },
  {
   "cell_type": "markdown",
   "metadata": {
    "id": "-Uo0SYBgusV0"
   },
   "source": [
    "### Exercise 2.1: Compute the Sum\n",
    "\n",
    "As we previously introduced, numpy provides several optimized function to work with ndarrays. In this exercise, we ask you to do the follow:\n",
    "\n",
    "\n",
    "1.   Define a function $f(n)$ that returns a numpy one dimension array of random numbers, where $n$ is the array size of the array.\n",
    "2.   Write a script that sums the values contained in the array (without using the numpy function sum). Print the sum and the execution time.\n",
    "3.   Use a numpy function that sums the values contained in the array. Print the execution time. Check if the function you wrote in the previous point returns the same value as the numpy function.\n",
    "\n",
    "For the points 2 and 3, execute the sum where $n = 100000$. Compare the execution time of both approaches.\n",
    "\n",
    "How can we have same results across different execution? If we use randomic functions, we can't control the output, and your results will differ from your collegues ones. How can we avoid it? We can set a seed. For example, consider the following example:\n",
    "\n",
    "    \n",
    "        def generate_random():\n",
    "            np.random.seed(123) #the randomic seed is set\n",
    "            return np.random.random()\n",
    "    \n",
    "If you call the following function several times, the result will always be the same. Be careful on how, and especially *where* you place the seed. In our exercises, we always set the seed to 123.\n"
   ]
  },
  {
   "cell_type": "code",
   "execution_count": null,
   "metadata": {
    "colab": {
     "base_uri": "https://localhost:8080/"
    },
    "id": "VkEB9AlQhlXB",
    "outputId": "4b973727-add2-4288-e081-75ea1399c02e"
   },
   "outputs": [
    {
     "name": "stdout",
     "output_type": "stream",
     "text": [
      "0.6964691855978616 0.6964691855978616 0.6964691855978616\n",
      "0.6964691855978616 0.28613933495037946 0.2268514535642031\n"
     ]
    }
   ],
   "source": [
    "## version 1\n",
    "def generate_random():\n",
    "    np.random.seed(123) #seed inside a function\n",
    "    return np.random.random()\n",
    "\n",
    "print(generate_random(), generate_random(), generate_random())\n",
    "\n",
    "\n",
    "## version 2\n",
    "def generate_random2():\n",
    "    return np.random.random()\n",
    "\n",
    "np.random.seed(123) #seed outside a function\n",
    "print(generate_random2(), generate_random2(), generate_random2())"
   ]
  },
  {
   "cell_type": "code",
   "execution_count": 10,
   "metadata": {
    "id": "11q8jkXgurMY"
   },
   "outputs": [],
   "source": [
    "#\n",
    "# Complete ex 2.1.1 here\n",
    "#\n",
    "\n",
    "def generate_random(n):\n",
    "  np.random.seed(123)\n",
    "  return np.random.random(n)\n",
    "\n",
    "x = generate_random(1000)\n",
    "\n",
    "\n",
    "#place the following line inside your function, in this way we avoid randomness\n",
    "# np.random.seed(123) #<-- this function sets a seed to allow reproducibility. In this way, the \"randomness\" is under our control."
   ]
  },
  {
   "cell_type": "code",
   "execution_count": 12,
   "metadata": {
    "colab": {
     "base_uri": "https://localhost:8080/"
    },
    "id": "FJkhlnLCwUAG",
    "outputId": "36b0ab4d-de1b-4e96-b38a-7af31223a08f"
   },
   "outputs": [
    {
     "name": "stdout",
     "output_type": "stream",
     "text": [
      "499.37303104025125\n"
     ]
    }
   ],
   "source": [
    "#\n",
    "# Complete ex 2.1.2 here\n",
    "#\n",
    "\n",
    "sum = 0\n",
    "\n",
    "for n in x:\n",
    "  sum += n\n",
    "print(sum)"
   ]
  },
  {
   "cell_type": "code",
   "execution_count": 18,
   "metadata": {
    "colab": {
     "base_uri": "https://localhost:8080/"
    },
    "id": "JHdh3xrBwbto",
    "outputId": "fe059c3d-26d8-495f-edc4-676f701336ca"
   },
   "outputs": [
    {
     "name": "stdout",
     "output_type": "stream",
     "text": [
      "499.37303104025136 499.37303104025125\n",
      "CPU times: user 231 µs, sys: 0 ns, total: 231 µs\n",
      "Wall time: 238 µs\n"
     ]
    }
   ],
   "source": [
    "#\n",
    "# Complete ex 2.1.3 here\n",
    "#\n",
    "\n",
    "%%time\n",
    "\n",
    "np.sum(x)\n",
    "print(np.sum(x), sum)"
   ]
  },
  {
   "cell_type": "markdown",
   "metadata": {
    "id": "gJzR1ZilwpUp"
   },
   "source": [
    "### Exercise 2.2:\n",
    "\n",
    "Write a numpy program to compute the sum of the diagonal element of a given array.\n",
    "\n",
    "We ask you to provide two solutions:\n",
    "\n",
    "\n",
    "1.   Write your own script to solve the problem.\n",
    "2.   Find the one-line solution from the official <a href= \"https://numpy.org/doc/stable/index.html\">numpy</a> documentation, recalling that the sum of diagonal elements of a matrix is called trace.\n"
   ]
  },
  {
   "cell_type": "code",
   "execution_count": 19,
   "metadata": {
    "id": "Txqyts_VxKO2"
   },
   "outputs": [],
   "source": [
    "### define a matrix\n",
    "np.random.seed(123) #<-- this function sets a seed to allow reproducibility. In this way, the \"randomness\" is under our control.\n",
    "m = np.random.random((10, 10)) #create a randomic 10 X 10 matrix"
   ]
  },
  {
   "cell_type": "code",
   "execution_count": 21,
   "metadata": {
    "colab": {
     "base_uri": "https://localhost:8080/"
    },
    "id": "4EzAlrRLy-vI",
    "outputId": "9b3fc24d-8010-45bb-eed1-8e9a08bea676"
   },
   "outputs": [
    {
     "name": "stdout",
     "output_type": "stream",
     "text": [
      "5.384955835450879\n"
     ]
    }
   ],
   "source": [
    "#\n",
    "# Complete ex 2.2.1 here\n",
    "#\n",
    "\n",
    "sum_diagonal = 0\n",
    "for i in range(m.shape[0]):\n",
    "  sum_diagonal += m[i, i]\n",
    "print(sum_diagonal)"
   ]
  },
  {
   "cell_type": "code",
   "execution_count": 22,
   "metadata": {
    "colab": {
     "base_uri": "https://localhost:8080/"
    },
    "id": "XAKZEDQ_zF2o",
    "outputId": "55613682-669c-450a-c17e-ff5dae3b5307"
   },
   "outputs": [
    {
     "data": {
      "text/plain": [
       "5.384955835450879"
      ]
     },
     "execution_count": 22,
     "metadata": {},
     "output_type": "execute_result"
    }
   ],
   "source": [
    "#\n",
    "# Complete ex 2.2.2 here\n",
    "#\n",
    "\n",
    "np.trace(m)\n"
   ]
  },
  {
   "cell_type": "markdown",
   "metadata": {
    "id": "LK70KDzky-Fz"
   },
   "source": [
    "### Exercise 2.3: Linear Regression\n",
    "\n",
    "We now conclude the laboratory with an exercise on linear regression. <br>\n",
    "We apply the knowledge we gained so far to solve a real task: given the current speed of a car, predict the distance needed to reach a complete stop. The exercise is divided into small subtasks, complete each of them below. <br>\n",
    "<br>\n",
    "Linear regression is defined as follows: <br>\n",
    "\n",
    "$Y = \\beta_0 + \\beta_1 X + \\epsilon$\n",
    "\n",
    "where:\n",
    "\n",
    "\n",
    "*   $\\beta_0$ is the intercept\n",
    "*   $\\beta_1$ is the slope of the linear regression\n",
    "\n",
    "\n",
    "\n"
   ]
  },
  {
   "cell_type": "code",
   "execution_count": 1,
   "metadata": {
    "id": "XPSQa8YS0VRH"
   },
   "outputs": [],
   "source": [
    "# we start by importing some useful libraries\n",
    "import pandas as pd #pandas manages our datasets (e.g., csv)\n",
    "import numpy as np #our friend, numpy\n",
    "\n",
    "# get two graphic libraries\n",
    "import matplotlib.pyplot as plt\n",
    "import seaborn as sns\n",
    "%matplotlib inline"
   ]
  },
  {
   "cell_type": "code",
   "execution_count": 2,
   "metadata": {
    "colab": {
     "base_uri": "https://localhost:8080/",
     "height": 206
    },
    "id": "kSBW_5I10WiJ",
    "outputId": "4597c1c4-5473-418a-e981-e11b30b22830"
   },
   "outputs": [
    {
     "data": {
      "text/html": [
       "<div>\n",
       "<style scoped>\n",
       "    .dataframe tbody tr th:only-of-type {\n",
       "        vertical-align: middle;\n",
       "    }\n",
       "\n",
       "    .dataframe tbody tr th {\n",
       "        vertical-align: top;\n",
       "    }\n",
       "\n",
       "    .dataframe thead th {\n",
       "        text-align: right;\n",
       "    }\n",
       "</style>\n",
       "<table border=\"1\" class=\"dataframe\">\n",
       "  <thead>\n",
       "    <tr style=\"text-align: right;\">\n",
       "      <th></th>\n",
       "      <th>speed</th>\n",
       "      <th>dist</th>\n",
       "    </tr>\n",
       "  </thead>\n",
       "  <tbody>\n",
       "    <tr>\n",
       "      <th>0</th>\n",
       "      <td>4</td>\n",
       "      <td>2</td>\n",
       "    </tr>\n",
       "    <tr>\n",
       "      <th>1</th>\n",
       "      <td>4</td>\n",
       "      <td>10</td>\n",
       "    </tr>\n",
       "    <tr>\n",
       "      <th>2</th>\n",
       "      <td>7</td>\n",
       "      <td>4</td>\n",
       "    </tr>\n",
       "    <tr>\n",
       "      <th>3</th>\n",
       "      <td>7</td>\n",
       "      <td>22</td>\n",
       "    </tr>\n",
       "    <tr>\n",
       "      <th>4</th>\n",
       "      <td>8</td>\n",
       "      <td>16</td>\n",
       "    </tr>\n",
       "  </tbody>\n",
       "</table>\n",
       "</div>"
      ],
      "text/plain": [
       "   speed  dist\n",
       "0      4     2\n",
       "1      4    10\n",
       "2      7     4\n",
       "3      7    22\n",
       "4      8    16"
      ]
     },
     "execution_count": 2,
     "metadata": {},
     "output_type": "execute_result"
    }
   ],
   "source": [
    "#import the dataset\n",
    "data_url = 'https://raw.githubusercontent.com/cmdlinetips/data/master/cars.tsv' #we define the url\n",
    "cars = pd.read_csv(data_url, sep=\"\\t\") #pandas allows us to import dataset from url. The rows are separated by the tab.\n",
    "\n",
    "# Using the function head() we can see the first 5 rows of the dataset.\n",
    "# From the output, we can see that the variable cars is organized as a csv file\n",
    "cars.head()"
   ]
  },
  {
   "cell_type": "code",
   "execution_count": 3,
   "metadata": {
    "colab": {
     "base_uri": "https://localhost:8080/"
    },
    "id": "UBqK0Q3n0_ku",
    "outputId": "1ec9f645-d698-4f82-be07-9d17ecd909e8"
   },
   "outputs": [
    {
     "name": "stdout",
     "output_type": "stream",
     "text": [
      "0    4\n",
      "1    4\n",
      "2    7\n",
      "3    7\n",
      "4    8\n",
      "Name: speed, dtype: int64\n"
     ]
    }
   ],
   "source": [
    "## we can easily access to the columns as follows\n",
    "print(cars.head()[\"speed\"])"
   ]
  },
  {
   "cell_type": "code",
   "execution_count": 4,
   "metadata": {
    "colab": {
     "base_uri": "https://localhost:8080/",
     "height": 497
    },
    "id": "EQJLyFjy1anM",
    "outputId": "c0444bf0-4d41-488f-fded-8092b08ae3c8"
   },
   "outputs": [
    {
     "data": {
      "text/plain": [
       "Text(0.5, 0, 'Speed (mph)')"
      ]
     },
     "execution_count": 4,
     "metadata": {},
     "output_type": "execute_result"
    },
    {
     "data": {
      "image/png": "[encoded data removed]",
      "text/plain": [
       "<Figure size 432x288 with 1 Axes>"
      ]
     },
     "metadata": {
      "needs_background": "light"
     },
     "output_type": "display_data"
    }
   ],
   "source": [
    "#we can now use our visualizing tools to plot the data\n",
    "bplot= sns.scatterplot(x = 'speed', y = 'dist',data=cars) #define the type of plot\n",
    "bplot.axes.set_title(\"speed vs dist: Scatter Plot\",\n",
    "                    fontsize=16) #set the title\n",
    "bplot.set_ylabel(\"Distances taken to stop (feet)\",\n",
    "                fontsize=16) #set the x label\n",
    "bplot.set_xlabel(\"Speed (mph)\",\n",
    "                fontsize=16) #set the y label"
   ]
  },
  {
   "cell_type": "code",
   "execution_count": 5,
   "metadata": {
    "id": "SpGqa4q01p_3"
   },
   "outputs": [],
   "source": [
    "## We now can define X (the speed) to predict the distance require to stop\n",
    "X = cars[\"speed\"].values #get all the values of the \"speed\" column\n",
    "Y = cars[\"dist\"].values #get all the values of the \"Dist\" column"
   ]
  },
  {
   "cell_type": "markdown",
   "metadata": {
    "id": "EbNBJtAv9Z8n"
   },
   "source": [
    "**EX 2.3.1** It's time to solve the problem.\n",
    "The first thing to do is to define a matrix containing both coefficient vectors for $\\beta_0$ and $\\beta_1$. <br>\n",
    "\n",
    "To do it, we need to:\n",
    "\n",
    "\n",
    "*   create a vector $v$ containing all 1. $|v|$ is equal to the number of samples.\n",
    "*   create a matrix X_mat of size $(n , 2)$, where the first column is $v$, and the second column is our $X$. To complete this operation, you might use the function *np.vstack* (see numpy documentation).\n",
    "\n"
   ]
  },
  {
   "cell_type": "code",
   "execution_count": 8,
   "metadata": {
    "colab": {
     "base_uri": "https://localhost:8080/"
    },
    "id": "UuFY8p-8_tjE",
    "outputId": "561f12ee-f2db-4883-e5f8-12845e56d7e8"
   },
   "outputs": [
    {
     "name": "stdout",
     "output_type": "stream",
     "text": [
      "[[1. 4.]\n",
      " [1. 4.]\n",
      " [1. 7.]\n",
      " [1. 7.]\n",
      " [1. 8.]]\n"
     ]
    }
   ],
   "source": [
    "#\n",
    "# EX 2.3.1\n",
    "#\n",
    "\n",
    "# X_mat = #name of the variable holding the (n,2) matrix\n",
    "\n",
    "\n",
    "X_mat = np.vstack([np.ones(len(X)), X]).T\n",
    "\n",
    "print(X_mat[:5])\n",
    "\n"
   ]
  },
  {
   "cell_type": "markdown",
   "metadata": {
    "id": "PPJpyUAu2MKe"
   },
   "source": [
    "**EX 2.3.2** Use now your numpy skills to find the regression parameters. In particular, we recall the following:\n",
    "\n",
    "$\\hat{\\beta} = (X^T.X)^{-1}.X^T.Y$\n",
    "\n",
    "The variable $\\hat{\\beta}$ contains the estimates of the two parameters of the linear model. We can compute them by implementing the formula above in numpy."
   ]
  },
  {
   "cell_type": "code",
   "execution_count": 11,
   "metadata": {
    "colab": {
     "base_uri": "https://localhost:8080/"
    },
    "id": "6m8vUu4_3I_1",
    "outputId": "f9e54e54-d6cc-46d1-efce-712c9e6313e3"
   },
   "outputs": [
    {
     "name": "stdout",
     "output_type": "stream",
     "text": [
      "[-17.57909489   3.93240876]\n"
     ]
    }
   ],
   "source": [
    "#\n",
    "# Solve exercise 2.3.2 here\n",
    "#\n",
    "# beta_hat = # name of the variable that will hold the best parameters\n",
    "\n",
    "# X_mat = #name of the variable holding the (n,2) matrix\n",
    "\n",
    "beta_hat = np.linalg.inv(X_mat.T.dot(X_mat)).dot(X_mat.T).dot(Y) #coding the formula of Beta from the above\n",
    "print(beta_hat)\n",
    "\n",
    "\n",
    "#index 0 and 1 to access the list\n",
    "#\n",
    "# end of exercise 2.3.2. Do not modify the next line\n",
    "#\n"
   ]
  },
  {
   "cell_type": "markdown",
   "metadata": {
    "id": "-5cWya1PisV6"
   },
   "source": [
    "**EX 2.3.3** We now know the values for $\\hat{\\beta}_0$ and $\\hat{\\beta}_1$. Can you manually predict the outcome when the speed (i.e., $x$) is set to 21?"
   ]
  },
  {
   "cell_type": "code",
   "execution_count": 12,
   "metadata": {
    "colab": {
     "base_uri": "https://localhost:8080/"
    },
    "id": "zeTxXc3GjBe3",
    "outputId": "54291c66-f0a6-41a3-b92e-a932d5a23155"
   },
   "outputs": [
    {
     "name": "stdout",
     "output_type": "stream",
     "text": [
      "65.00148905109481\n"
     ]
    }
   ],
   "source": [
    "#\n",
    "# Solve EX 2.3.3 here\n",
    "#\n",
    "\n",
    "beta_0 = beta_hat[0]\n",
    "beta_1 = beta_hat[1]\n",
    "x_ = 21\n",
    "\n",
    "print(beta_0 + x_ * beta_1)\n"
   ]
  },
  {
   "cell_type": "markdown",
   "metadata": {
    "id": "humlI6QyA0bU"
   },
   "source": [
    "**EX 2.3.4** Once we have estimated $\\hat{\\beta}$, we can compute $\\hat{y}$, i.e., our estimations for the examples of our dataset."
   ]
  },
  {
   "cell_type": "code",
   "execution_count": 13,
   "metadata": {
    "id": "b3UlxY4aAzia"
   },
   "outputs": [],
   "source": [
    "#\n",
    "# Solve EX 2.3.4 here\n",
    "#\n",
    "y_hat = X_mat.dot(beta_hat)"
   ]
  },
  {
   "cell_type": "markdown",
   "metadata": {
    "id": "sjK-ivYK3Xiq"
   },
   "source": [
    "We can now plot the regression solution. <br>"
   ]
  },
  {
   "cell_type": "code",
   "execution_count": 14,
   "metadata": {
    "colab": {
     "base_uri": "https://localhost:8080/",
     "height": 282
    },
    "id": "BxSIDpmn3L4i",
    "outputId": "26df31ed-d033-40ea-8e4a-66d0e49e48b4"
   },
   "outputs": [
    {
     "data": {
      "text/plain": [
       "[<matplotlib.lines.Line2D at 0x7fa080534c40>]"
      ]
     },
     "execution_count": 14,
     "metadata": {},
     "output_type": "execute_result"
    },
    {
     "data": {
      "image/png": "[encoded data removed]",
      "text/plain": [
       "<Figure size 432x288 with 1 Axes>"
      ]
     },
     "metadata": {
      "needs_background": "light"
     },
     "output_type": "display_data"
    }
   ],
   "source": [
    "# plot data and predictions\n",
    "\n",
    "## uncomment the following two lines\n",
    "plt.scatter(X, Y)\n",
    "plt.plot(X, y_hat, color='red')"
   ]
  },
  {
   "cell_type": "markdown",
   "metadata": {
    "id": "Bkp4H3ZmBw_T"
   },
   "source": [
    "We now have both $y$ (true values) and estimations $\\hat{y}$ computed with our regressor. <br>\n",
    "**EX 2.3.5** Let's now compute the average error of our estimates, defined as follows: $err = \\frac{1}{n} \\sum_{i = 0}^{n}(y_i - \\hat{y}_i )^2$."
   ]
  },
  {
   "cell_type": "code",
   "execution_count": 37,
   "metadata": {
    "colab": {
     "base_uri": "https://localhost:8080/"
    },
    "id": "Bh9Ajs5KCjRr",
    "outputId": "523ca616-6e61-4c22-80f7-38ecf4385861"
   },
   "outputs": [
    {
     "data": {
      "text/plain": [
       "227.07042102189783"
      ]
     },
     "execution_count": 37,
     "metadata": {},
     "output_type": "execute_result"
    }
   ],
   "source": [
    "#\n",
    "# Solve EX 2.3.5 here\n",
    "#\n",
    "\n",
    "error = np.sum((Y - y_hat)**2) / len(Y)\n",
    "error"
   ]
  }
 ],
 "metadata": {
  "colab": {
   "provenance": []
  },
  "kernelspec": {
   "display_name": "Python 3 (ipykernel)",
   "language": "python",
   "name": "python3"
  },
  "language_info": {
   "codemirror_mode": {
    "name": "ipython",
    "version": 3
   },
   "file_extension": ".py",
   "mimetype": "text/x-python",
   "name": "python",
   "nbconvert_exporter": "python",
   "pygments_lexer": "ipython3",
   "version": "3.9.7"
  }
 },
 "nbformat": 4,
 "nbformat_minor": 1
}

{
 "cells": [
  {
   "cell_type": "markdown",
   "metadata": {
    "id": "BfyGsMOvMWMT"
   },
   "source": [
    "# Perceptron For Non Linearly-Separable Data\n",
    "\n",
    "In this assigment we derive and implement a version of the perceptron that does not assume the data is linearly separable.\n",
    "We will use gradient descent to search for the hypothesis that best fit the training data.\n",
    "The hypothesis space, prediction function and datasets are the same as the one we saw in class, what changes is the way we'll perform training.\n",
    "\n",
    "We represent the perceptron with a vector of parameters $\\theta$ (which is orthogonal to the hyperplane separating the two classes).  \n",
    "We represent a dataset of $m$ examples with $(X=\\{x^{(1)}, \\ldots, x^{(m)}\\},Y=\\{y^{(1)}, \\dots, y^{(m)}\\})$, where $x^{(i)}\\in R^{n}$ (the input is described by a vector of $n$ features), and $y^{(i)}=\\{-1,+1\\}$.\n",
    "The score of the perceptron on an example $x$ is\n",
    "$$s(x) = \\theta^Tx = \\sum_{j=1}^n \\theta_jx_j~~~~~~~~~~~~~~~~~~~~~~(1)$$\n",
    "As usual, the prediction is the sign of the score function $s()$.\n",
    "\n",
    "Since we plan to update the parameters of our model using the gradient, we first need to define a cost function. We are going to use:\n",
    "$$E(\\theta) = \\frac{1}{2}\\sum_{i=1}^m \\big(y^{(i)}-s(x^{(i)})\\big)^2~~~~~~~~~~(2)$$\n",
    "\n",
    "**Exercise 1.1** - Compute the gradient $\\nabla E(\\theta)$\n",
    "\n",
    "As for the linear and logistic regression, the update rule is computed via the gradient of the cost function with respect to each parameter $\\theta_j$:\n",
    "$$\\theta_j' = \\theta_j-\\eta\\nabla E(\\theta_j),~~~~~~~~~~~~~~~~~~~~~~~~~~~~(3)$$\n",
    "where $\\theta_j'$ is the j-th component of the gradient after the update, $\\theta_j$ is the j-th component before the update, $\\eta$ is the learning rate and $\\nabla E(\\theta_j)$ is the gradient of the cost function with respect to $\\theta_j$. Consequently,\n",
    "$$\n",
    "\\nabla E(\\theta)=\\left[\\begin{array}{c}\n",
    "\\dfrac{\\partial E}{\\partial \\theta_1}\\Big(\\frac{1}{2}\\sum_{i=1}^m \\big(y^{(i)}-s(x^{(i)})\\big)^2\\Big)\\\\\n",
    "\\dfrac{\\partial E}{\\partial \\theta_2}\\Big(\\frac{1}{2}\\sum_{i=1}^m \\big(y^{(i)}-s(x^{(i)})\\big)^2\\Big) \\\\\n",
    "\\vdots \\\\\n",
    "\\dfrac{\\partial E}{\\partial \\theta_n}\\Big(\\frac{1}{2}\\sum_{i=1}^m \\big(y^{(i)}-s(x^{(i)})\\big)^2\\Big)\n",
    "\\end{array}\\right], ~~~(4)\n",
    "$$\n",
    "i.e. the derivative of $E$ with respect to each variable $\\theta_j$.\n",
    "\n",
    "Let's start by **computing the gradient of $E$ with respect to a generic $\\theta_j$:**\n",
    " $$\\dfrac{\\partial E}{\\partial \\theta_j}\\Big(\\frac{1}{2}\\sum_{i=1}^m \\big(y^{(i)}-s(x^{(i)})\\big)^2\\Big)= ~? ~~~~~~~~~~~~~~~~~~~~~(5)$$\n",
    " Complete the formula (5) in the text box below. If you struggle with latex (the language used here for writing math formulas), you may skip this part and directly provide the implementation afterwards."
   ]
  },
  {
   "cell_type": "markdown",
   "metadata": {
    "id": "Dq4ImlSjUFYY"
   },
   "source": [
    "**Exercise 1.1**\n",
    "\n",
    "The gradient of $E$ with respect to $\\theta_j$ is:\n",
    "$$\n",
    "  \\dfrac{\\partial E}{\\partial \\theta_j}\\Big(\\frac{1}{2}\\sum_{i=1}^m \\big(y^{(i)}-s(x^{(i)})\\big)^2\\Big) =\n",
    "$$"
   ]
  },
  {
   "cell_type": "markdown",
   "metadata": {
    "id": "erDTcAhgU4-j"
   },
   "source": [
    "Now let's implement the new version of the perceptron.\n",
    "Let' start by loading libraries and data."
   ]
  },
  {
   "cell_type": "code",
   "execution_count": 1,
   "metadata": {
    "colab": {
     "base_uri": "https://localhost:8080/"
    },
    "id": "a1bwdsusuxYX",
    "outputId": "a2ba6e61-6a0c-4b7e-8cf3-8ecfbdaa92e8"
   },
   "outputs": [],
   "source": [
    "# SETUP\n",
    "# install python at version 3.10\n",
    "#!apt-get install python3.10\n",
    "\n",
    "# update symbolic links to the newly installed python version\n",
    "#!ln -sf /usr/bin/python3.10 /usr/bin/python\n",
    "#!ln -sf /usr/bin/python3.10 /usr/bin/python3\n",
    "\n",
    "# install scikit-learn 1.2.2\n",
    "#%pip install scikit-learn==1.2.2"
   ]
  },
  {
   "cell_type": "code",
   "execution_count": 2,
   "metadata": {
    "colab": {
     "base_uri": "https://localhost:8080/",
     "height": 738
    },
    "id": "AwrVO5DjNmc6",
    "outputId": "b8693732-9839-49be-bf28-d443c351cade"
   },
   "outputs": [
    {
     "data": {
      "text/plain": [
       "array([ 1, -1,  1,  1, -1, -1,  1,  1,  1,  1, -1, -1, -1, -1,  1,  1,  1,\n",
       "       -1, -1, -1, -1, -1, -1,  1, -1,  1, -1, -1, -1,  1,  1,  1,  1, -1,\n",
       "        1, -1,  1, -1, -1,  1,  1,  1,  1,  1,  1, -1, -1,  1,  1, -1,  1,\n",
       "        1,  1,  1,  1, -1, -1, -1, -1,  1,  1, -1, -1,  1, -1,  1, -1,  1,\n",
       "        1, -1, -1, -1, -1, -1, -1, -1,  1,  1,  1,  1, -1, -1, -1, -1,  1,\n",
       "       -1, -1, -1,  1,  1, -1,  1, -1, -1, -1,  1,  1,  1, -1, -1,  1, -1,\n",
       "       -1, -1,  1, -1,  1,  1, -1, -1, -1,  1, -1,  1, -1, -1, -1, -1, -1,\n",
       "       -1,  1, -1, -1, -1,  1, -1, -1, -1,  1, -1,  1, -1,  1,  1, -1,  1,\n",
       "        1, -1,  1,  1,  1, -1, -1, -1,  1,  1, -1,  1,  1, -1,  1,  1,  1,\n",
       "        1, -1, -1,  1,  1, -1, -1,  1, -1,  1,  1, -1, -1, -1,  1,  1,  1,\n",
       "        1,  1, -1,  1,  1,  1,  1, -1, -1,  1,  1, -1,  1,  1,  1,  1,  1,\n",
       "        1, -1,  1,  1, -1, -1, -1,  1, -1, -1,  1,  1,  1,  1, -1, -1,  1,\n",
       "       -1,  1, -1, -1,  1, -1, -1, -1,  1, -1, -1, -1,  1,  1,  1,  1, -1,\n",
       "        1,  1,  1, -1, -1,  1, -1,  1,  1,  1, -1, -1,  1,  1,  1,  1, -1,\n",
       "        1,  1])"
      ]
     },
     "execution_count": 2,
     "metadata": {},
     "output_type": "execute_result"
    },
    {
     "data": {
      "image/png": "[encoded data removed]",
      "text/plain": [
       "<Figure size 720x576 with 1 Axes>"
      ]
     },
     "metadata": {
      "needs_background": "light"
     },
     "output_type": "display_data"
    }
   ],
   "source": [
    "#import the basic libraries and get the data\n",
    "import numpy as np\n",
    "import matplotlib.pyplot as plt\n",
    "from sklearn import datasets\n",
    "from sklearn.preprocessing import StandardScaler\n",
    "from sklearn.model_selection import train_test_split\n",
    "\n",
    "X_art, y_art = datasets.make_classification(n_samples=300, n_features=2, random_state=123, n_redundant= 0, n_informative=2, scale=10, shift=10, n_clusters_per_class=1, class_sep=0.675)\n",
    "y_art[y_art==0]=-1\n",
    "y_art = y_art.reshape(len(y_art),1)\n",
    "X_train, X_test, y_train, y_test = train_test_split(X_art, y_art, train_size=0.8)\n",
    "\n",
    "# scale\n",
    "scl = StandardScaler()\n",
    "scl.fit(X_train)\n",
    "X_train = scl.transform(X_train)\n",
    "X_test = scl.transform(X_test)\n",
    "\n",
    "X_train = np.hstack([np.ones((X_train.shape[0],1)), X_train]) # adding a constant feature to account for the bias term\n",
    "X_test = np.hstack([np.ones((X_test.shape[0],1)), X_test]) # adding a constant feature to account for the bias term\n",
    "\n",
    "# visualize the data\n",
    "fig = plt.figure(figsize=(10,8))\n",
    "plt.plot(X_train[:, 1][y_train[:,0] == -1], X_train[:, 2][y_train[:,0] == -1], 'r^')\n",
    "plt.plot(X_train[:, 1][y_train[:,0] == 1], X_train[:, 2][y_train[:,0] == 1], 'bs')\n",
    "plt.xlabel(\"$X_1$\")\n",
    "plt.ylabel(\"$X_2$\")\n",
    "plt.title('Random Data with 2 classes')\n",
    "\n",
    "\n",
    "y_train[:,0]\n"
   ]
  },
  {
   "cell_type": "markdown",
   "metadata": {
    "id": "FUg0hh8yEd6D"
   },
   "source": [
    "**Exercise 1.2**\n",
    "\n",
    "Check the code in the previous box and answer the following question\n",
    "\n",
    "1. what does the code in line 19 do? \"*X_train = np.hstack...*\"\n",
    "2. is the data plotted linearly separable?"
   ]
  },
  {
   "cell_type": "markdown",
   "metadata": {
    "id": "9meYQwMoGDdE"
   },
   "source": [
    "Write your answers to **Exercise 1.2 in this box**\n",
    "\n"
   ]
  },
  {
   "cell_type": "markdown",
   "metadata": {},
   "source": [
    "1. The code in line 19 do add a bias term (1) to one and each element of the vector X.\n",
    "2. The data does not to appear linearly seperable as there are some overlaps. "
   ]
  },
  {
   "cell_type": "markdown",
   "metadata": {
    "id": "tB8spgPq5zak"
   },
   "source": [
    "Let's now implement a function Perceptron( $X$, $Y$, $\\epsilon$, $\\theta$ )  with 5 parameters.\n",
    "\n",
    "The parameters are\n",
    "\n",
    "*   X: the training data\n",
    "*   Y: the labels of the training data\n",
    "*   $\\epsilon$: the algorithm stops as soon as the updates are smaller than this value\n",
    "*   $\\theta$: the initial value of the parameters of the model\n",
    "*   $\\eta$: the learning rate\n",
    "\n",
    "The content of the function Perceptron() is the following:\n",
    "\n",
    "-------\n",
    "$\\theta' = \\theta -\\eta\\nabla E(\\theta)$\n",
    "\n",
    "while $|E(\\theta')-E(\\theta)| > \\epsilon$\n",
    "\n",
    "  $\\hspace{1cm}\\theta$ = $\\theta'$\n",
    "\n",
    "  $\\hspace{1cm}\\theta'$ = $\\theta-\\eta\\nabla E(\\theta)$\n",
    "\n",
    "return $\\theta'$\n",
    "\n",
    "------\n",
    "\n",
    "As we have seen for the linear regression, the vector $\\theta$ gets updated until the stopping criterion is met. In our case such criterion relates to the change in the error: $|E(\\theta')-E(\\theta)| > \\epsilon$, where $|x|$ is the absolute value of x (in our case the difference in the cost function before and after an update). Notice that the error is computed over all the training data, so the algorithm generally cycles multiple times over the training data.\n",
    "\n",
    "**Exercise 1.3 Implement the following functions in the box below (according to the description in the same box)**\n",
    "* **def s(X, theta)**\n",
    "* **def cost_function_value(scores, Y)**\n",
    "* **def update(X, Y, theta, eta)**\n",
    "\n",
    "Then exec the box with the function my_perceptron() below."
   ]
  },
  {
   "cell_type": "code",
   "execution_count": 3,
   "metadata": {
    "id": "pWGRX7rzrVCM"
   },
   "outputs": [],
   "source": [
    "\n",
    "def s(X, theta):\n",
    "  # compute the score of a perceptron with parameters theta on X, i.e. equation (1) above for all x in X\n",
    "  # returns a vectors of dimension m, i.e. equation (1) computed over all examples X\n",
    "    score = np.dot(X, theta)\n",
    "    return score\n",
    "\n",
    "\n",
    "def cost_function_value(scores, Y):\n",
    "    # compute equation (2), where 'scores' are the values of equation (1) over X and Y the gold labels of examples X\n",
    "    cost = 0.5 * np.sum(np.square(scores - Y))\n",
    "    return cost\n",
    "\n",
    "\n",
    "def update(X, Y, theta, eta):\n",
    "  # compute the update for the perceptron, i.e. equation (3)\n",
    "  # returns the updated vector theta'\n",
    "    scores = s(X, theta)\n",
    "    update_term = eta * np.dot((Y - scores).T, X)\n",
    "    theta_prime = theta + update_term.T\n",
    "    return theta_prime "
   ]
  },
  {
   "cell_type": "code",
   "execution_count": 4,
   "metadata": {
    "colab": {
     "base_uri": "https://localhost:8080/",
     "height": 445
    },
    "id": "hw1pelWa_Dk8",
    "outputId": "e2fc0049-99f6-4780-f791-32db332f847e"
   },
   "outputs": [
    {
     "name": "stdout",
     "output_type": "stream",
     "text": [
      "iterations: 261\n",
      "final cost function value: 21.570558427437\n"
     ]
    },
    {
     "data": {
      "image/png": "[encoded data removed]",
      "text/plain": [
       "<Figure size 432x288 with 1 Axes>"
      ]
     },
     "metadata": {
      "needs_background": "light"
     },
     "output_type": "display_data"
    }
   ],
   "source": [
    "def my_perceptron(X, Y, epsilon, theta, eta):\n",
    "    error_values = [] # we keep record of all the cost function values for all iterations of the algorithm\n",
    "    theta_prime = theta\n",
    "\n",
    "    error_values.append(cost_function_value(s(X, theta), Y))\n",
    "    theta_prime = update(X,Y, theta, eta)\n",
    "    error_values.append(cost_function_value(s(X, theta_prime), Y))\n",
    "    \n",
    "    while abs(error_values[-1]-error_values[-2])>epsilon:\n",
    "        theta_prime = update(X,Y, theta_prime, eta)\n",
    "        error_values.append(cost_function_value(s(X, theta_prime), Y))\n",
    "    return theta_prime, error_values\n",
    "\n",
    "    \n",
    "theta = np.ones((X_train.shape[1],1))*0.1\n",
    "theta[0] = 0.2\n",
    "\n",
    "theta_prime, error_values = my_perceptron(X_train, y_train, 0.0001, theta, 0.0001)\n",
    "\n",
    "fig = plt.figure(figsize=(6,4))\n",
    "plt.plot(error_values)\n",
    "plt.xlabel(\"# iteration\")\n",
    "plt.ylabel(\"Cost function\")\n",
    "plt.title('Random Data with 2 classes')\n",
    "\n",
    "print(\"iterations: \" + str(len(error_values))+ \"\\nfinal cost function value: \" + str(error_values[-1]))"
   ]
  },
  {
   "cell_type": "code",
   "execution_count": 5,
   "metadata": {
    "colab": {
     "base_uri": "https://localhost:8080/",
     "height": 738
    },
    "id": "AUgoGt21fUGO",
    "outputId": "d7ef8601-1182-4cd7-8302-020b07ed7926"
   },
   "outputs": [
    {
     "data": {
      "text/plain": [
       "Text(0.5, 1.0, 'Perceptron on Data with 2 classes')"
      ]
     },
     "execution_count": 5,
     "metadata": {},
     "output_type": "execute_result"
    },
    {
     "data": {
      "image/png": "[encoded data removed]",
      "text/plain": [
       "<Figure size 720x576 with 1 Axes>"
      ]
     },
     "metadata": {
      "needs_background": "light"
     },
     "output_type": "display_data"
    }
   ],
   "source": [
    "# let's plot the perceptron (lightgray the first iteration, green the latest)\n",
    "\n",
    "fig = plt.figure(figsize=(10,8))\n",
    "plt.plot(X_train[:, 1][y_train[:,0] == -1], X_train[:, 2][y_train[:,0] == -1], 'r^')\n",
    "plt.plot(X_train[:, 1][y_train[:,0] == 1], X_train[:, 2][y_train[:,0] == 1], 'bs')\n",
    "Xvalues = np.linspace(-3.1, 3.1, 20)\n",
    "plt.plot(Xvalues, -theta[1]/theta[2]*Xvalues-theta[0]/theta[2], 'lightgray', label='first iter.')\n",
    "plt.plot(Xvalues, -theta_prime[1]/theta_prime[2]*Xvalues-theta_prime[0]/theta_prime[2], 'g', label='last iter.')\n",
    "plt.xlabel(\"$X_1$\")\n",
    "plt.ylabel(\"$X_2$\")\n",
    "plt.legend()\n",
    "plt.title('Perceptron on Data with 2 classes')"
   ]
  },
  {
   "cell_type": "markdown",
   "metadata": {
    "id": "hIRjAEVEK9yv"
   },
   "source": [
    "**Exercise 1.4**\n",
    "\n",
    "Compute the accuracy on the perceptron just implemented on the test set"
   ]
  },
  {
   "cell_type": "code",
   "execution_count": 6,
   "metadata": {
    "id": "kM4dRLTWRXo8"
   },
   "outputs": [
    {
     "name": "stdout",
     "output_type": "stream",
     "text": [
      "Accuracy on the test set: 0.95\n"
     ]
    }
   ],
   "source": [
    "from sklearn.metrics import accuracy_score\n",
    "\n",
    "def perceptron_predict(X, theta):\n",
    "    scores = s(X, theta)\n",
    "    predictions = np.sign(scores)\n",
    "    return predictions\n",
    "\n",
    "y_pred = perceptron_predict(X_test, theta_prime)\n",
    "accuracy = accuracy_score(y_test, y_pred)\n",
    "\n",
    "print(\"Accuracy on the test set:\", accuracy)\n"
   ]
  }
 ],
 "metadata": {
  "colab": {
   "provenance": []
  },
  "kernelspec": {
   "display_name": "Python 3 (ipykernel)",
   "language": "python",
   "name": "python3"
  },
  "language_info": {
   "codemirror_mode": {
    "name": "ipython",
    "version": 3
   },
   "file_extension": ".py",
   "mimetype": "text/x-python",
   "name": "python",
   "nbconvert_exporter": "python",
   "pygments_lexer": "ipython3",
   "version": "3.9.7"
  }
 },
 "nbformat": 4,
 "nbformat_minor": 1
}
